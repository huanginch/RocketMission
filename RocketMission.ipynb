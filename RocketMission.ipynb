{
 "cells": [
  {
   "cell_type": "code",
   "execution_count": 1,
   "metadata": {
    "scrolled": true
   },
   "outputs": [
    {
     "name": "stdout",
     "output_type": "stream",
     "text": [
      "Requirement already satisfied: pygame in d:\\anaconda3\\envs\\env_1115\\lib\\site-packages (2.0.0)\n",
      "Note: you may need to restart the kernel to use updated packages.\n"
     ]
    }
   ],
   "source": [
    "pip install pygame"
   ]
  },
  {
   "cell_type": "code",
   "execution_count": 2,
   "metadata": {},
   "outputs": [
    {
     "name": "stdout",
     "output_type": "stream",
     "text": [
      "pygame 2.0.0 (SDL 2.0.12, python 3.8.5)\n",
      "Hello from the pygame community. https://www.pygame.org/contribute.html\n"
     ]
    }
   ],
   "source": [
    "import sys\n",
    "\n",
    "import random\n",
    "import pygame\n",
    "from pygame.locals import QUIT"
   ]
  },
  {
   "cell_type": "code",
   "execution_count": 3,
   "metadata": {},
   "outputs": [],
   "source": [
    "#定義顏色\n",
    "Yellow = (255,255,0)\n",
    "Black = (0,0,0)\n",
    "White = (255,255,255)\n",
    "Blue = (61,89,171)\n",
    "#定義視窗大小\n",
    "window_width = 1000\n",
    "window_height = 600\n",
    "#PacMan初始參數\n",
    "pm_x = 550\n",
    "pm_y = 250\n",
    "pm_dx = 1.5\n",
    "pm_dy = 1.5\n",
    "\n",
    "#分數\n",
    "score=0\n",
    "#分數座標\n",
    "score_x=853\n",
    "score_y=0\n",
    "\n",
    "#點點群組\n",
    "FuelPacks_list = pygame.sprite.Group()\n",
    "\n",
    "clock = pygame.time.Clock()\n",
    "FPS = 60"
   ]
  },
  {
   "cell_type": "code",
   "execution_count": 4,
   "metadata": {
    "scrolled": true
   },
   "outputs": [],
   "source": [
    " #初始化\n",
    "pygame.init()\n",
    "#視窗大小為window_width，window_height\n",
    "windows_surface = pygame.display.set_mode((window_width,window_height)) \n",
    "#載入Rocket.png\n",
    "pm_image = [pygame.image.load('RocketL.png').convert_alpha(),\n",
    "            pygame.image.load('RocketR.png').convert_alpha(),\n",
    "            pygame.image.load('RocketU.png').convert_alpha(),\n",
    "            pygame.image.load('RocketD.png').convert_alpha()]\n",
    "\n",
    "#畫面標題PacMan\n",
    "pygame.display.set_caption('PacMan') \n",
    "#背景大小為視窗大小\n",
    "background = pygame.Surface(windows_surface.get_size()) \n",
    "#增加繪製速度\n",
    "background.convert() \n",
    "#從(0,0)填入背景\n",
    "windows_surface.blit(background, (0,0))\n",
    "\n",
    "#匯入字體\n",
    "arial = pygame.font.SysFont(\"arial\", 40)"
   ]
  },
  {
   "cell_type": "code",
   "execution_count": 5,
   "metadata": {},
   "outputs": [],
   "source": [
    "#PacMan物件\n",
    "class Rocket(pygame.sprite.Sprite):\n",
    "    def __init__(self,x,dx,y,dy):\n",
    "        super().__init__()\n",
    "        self.image = pm_image[0]\n",
    "        #回傳位置\n",
    "        self.rect = self.image.get_rect() \n",
    "        #定位\n",
    "        self.rect.center = (x,y)\n",
    "        self.x = pm_x\n",
    "        self.y = pm_y\n",
    "        self.dx = pm_dx\n",
    "        self.dy = pm_dy\n",
    "        \n",
    "    def draw(self,ws):\n",
    "        \n",
    "        ws.blit(self.image, (self.x,self.y)) #從(x,y)填入PacMan.jpg\n",
    "        \n",
    "    \n",
    "    #左移\n",
    "    def moveL(self):\n",
    "        if self.x > 0: \n",
    "            self.image = pm_image[0]\n",
    "            self.x -= self.dx\n",
    "        \n",
    "    #右移\n",
    "    def moveR(self):\n",
    "        if self.x < window_width-75: \n",
    "            self.image = pm_image[1]\n",
    "            self.x += self.dx\n",
    "        \n",
    "    #上移\n",
    "    def moveU(self):\n",
    "        if self.y > 0: \n",
    "            self.image = pm_image[2]\n",
    "            self.y -= self.dy\n",
    "       \n",
    "    #下移\n",
    "    def moveD(self):\n",
    "        if self.y < window_height-75:\n",
    "            self.image = pm_image[3]\n",
    "            self.y += self.dy"
   ]
  },
  {
   "cell_type": "code",
   "execution_count": 6,
   "metadata": {},
   "outputs": [],
   "source": [
    "#燃料包物件\n",
    "class FuelPack(pygame.sprite.Sprite):\n",
    "    def __init__(self,width,height):\n",
    "        super().__init__()\n",
    "        #載入fuelpack\n",
    "        self.image = pygame.image.load('fuelpack.png').convert_alpha()\n",
    "        #回傳位置   \n",
    "        self.rect = self.image.get_rect() \n",
    "        #定位\n",
    "        #self.rect.center = (x, y)\n",
    "        #self.x = x\n",
    "        #self.y = y\n",
    "    \"\"\"\n",
    "    def draw(self,ws,x,y):\n",
    "        self.x=x\n",
    "        self.y=y\n",
    "         #從(x,y)畫點點\n",
    "        ws.blit(self.image,(x,y))\n",
    "    \"\"\""
   ]
  },
  {
   "cell_type": "code",
   "execution_count": 7,
   "metadata": {},
   "outputs": [
    {
     "data": {
      "text/plain": [
       "'\\n#牆壁物件\\nclass Wall(pygame.sprite.Sprite):\\n    def __init__(self,width,height):\\n        super().__init__()\\n        self.image = pygame.Surface([width,height])\\n        #塗黑色\\n        self.image.fill(Yellow)\\n        #回傳位置   \\n        self.rect = self.image.get_rect()\\n    def draw(self,ws,x,y):\\n        self.x=x\\n        self.y=y\\n         #從(x,y)畫點點\\n        ws.blit(self.image,(x,y))\\n'"
      ]
     },
     "execution_count": 7,
     "metadata": {},
     "output_type": "execute_result"
    }
   ],
   "source": [
    "\"\"\"\n",
    "#牆壁物件\n",
    "class Wall(pygame.sprite.Sprite):\n",
    "    def __init__(self,width,height):\n",
    "        super().__init__()\n",
    "        self.image = pygame.Surface([width,height])\n",
    "        #塗黑色\n",
    "        self.image.fill(Yellow)\n",
    "        #回傳位置   \n",
    "        self.rect = self.image.get_rect()\n",
    "    def draw(self,ws,x,y):\n",
    "        self.x=x\n",
    "        self.y=y\n",
    "         #從(x,y)畫點點\n",
    "        ws.blit(self.image,(x,y))\n",
    "\"\"\""
   ]
  },
  {
   "cell_type": "code",
   "execution_count": 8,
   "metadata": {},
   "outputs": [
    {
     "data": {
      "text/plain": [
       "'\"\\n    wall_list=pygame.sprite.Group()\\n    wall=Wall(10,150)\\n    wall.draw(windows_surface,390,170)\\n    wall_list.add(wall)\\n    \\n'"
      ]
     },
     "execution_count": 8,
     "metadata": {},
     "output_type": "execute_result"
    }
   ],
   "source": [
    "\n",
    "#創建地圖\n",
    "def createMap():\n",
    "\n",
    "    bg_image=pygame.image.load('Background.jpg').convert()\n",
    "    windows_surface.blit(bg_image,(0,0))\n",
    "    \n",
    "    #顯示分數\n",
    "    score_surface = arial.render(\"score:%d\" %score, True, White, Blue)\n",
    "    windows_surface.blit(score_surface, (score_x, score_y))\n",
    "    \n",
    "    if len(FuelPacks_list)<10:\n",
    "        createFuelPack()\n",
    "\"\"\"\"\n",
    "    wall_list=pygame.sprite.Group()\n",
    "    wall=Wall(10,150)\n",
    "    wall.draw(windows_surface,390,170)\n",
    "    wall_list.add(wall)\n",
    "    \n",
    "\"\"\""
   ]
  },
  {
   "cell_type": "code",
   "execution_count": 9,
   "metadata": {},
   "outputs": [],
   "source": [
    "#畫燃料包\n",
    "def createFuelPack():\n",
    "    for i in range(35):\n",
    "        \n",
    "        #創建燃料包物件\n",
    "        fp=FuelPack(10,10)\n",
    "        \n",
    "        #為燃料包設定一個隨機座標\n",
    "        fp.rect.x=random.randrange(window_width-75)\n",
    "        fp.rect.y=random.randrange(window_height-75)\n",
    "        \n",
    "        #fp.draw(windows_surface,dot_x,dot_y) #繪製食物\n",
    "\n",
    "        #加入群組\n",
    "        FuelPacks_list.add(fp)"
   ]
  },
  {
   "cell_type": "code",
   "execution_count": 10,
   "metadata": {
    "scrolled": false
   },
   "outputs": [],
   "source": [
    "Rocket = Rocket(pm_x,pm_dx,pm_y,pm_dy) #創建PacMan"
   ]
  },
  {
   "cell_type": "code",
   "execution_count": 11,
   "metadata": {},
   "outputs": [],
   "source": [
    "createFuelPack()"
   ]
  },
  {
   "cell_type": "code",
   "execution_count": 12,
   "metadata": {
    "scrolled": true
   },
   "outputs": [],
   "source": [
    "#main loop\n",
    "\n",
    "run = True\n",
    "while run:\n",
    "    clock.tick(FPS)\n",
    "    #關閉視窗\n",
    "    for event in pygame.event.get():\n",
    "        if event.type == QUIT:\n",
    "            run = False\n",
    "     \n",
    "    #背景黑色\n",
    "    background.fill(Black) \n",
    "    \n",
    "    createMap()\n",
    "    \n",
    "    keys = pygame.key.get_pressed()\n",
    "    \n",
    "    #鍵盤控制PacMan移動\n",
    "    if keys[pygame.K_w]:\n",
    "        Rocket.moveU()\n",
    "    if keys[pygame.K_a]:\n",
    "        Rocket.moveL()\n",
    "    if keys[pygame.K_s]:\n",
    "        Rocket.moveD()\n",
    "    if keys[pygame.K_d]:\n",
    "        Rocket.moveR()\n",
    "        \n",
    "        \n",
    "    \n",
    "    #fp_is_eaten = pygame.sprite.spritecollide(Rocket,FuelPacks_list,True)\n",
    "    \n",
    "    \n",
    "    #偵測碰撞\n",
    "    for fp in FuelPacks_list:\n",
    "        if fp.rect.collidepoint(Rocket.x,Rocket.y):\n",
    "            score += 1\n",
    "            FuelPacks_list.remove(fp)\n",
    "    \n",
    "    #畫出燃料包\n",
    "    FuelPacks_list.draw(windows_surface)\n",
    "        \n",
    "    #繪製 Rocket\n",
    "    Rocket.draw(windows_surface)\n",
    "    pygame.display.flip()\n",
    "           \n",
    "pygame.quit()        "
   ]
  },
  {
   "cell_type": "code",
   "execution_count": null,
   "metadata": {},
   "outputs": [],
   "source": []
  },
  {
   "cell_type": "code",
   "execution_count": null,
   "metadata": {},
   "outputs": [],
   "source": []
  },
  {
   "cell_type": "code",
   "execution_count": null,
   "metadata": {},
   "outputs": [],
   "source": []
  },
  {
   "cell_type": "code",
   "execution_count": null,
   "metadata": {},
   "outputs": [],
   "source": []
  }
 ],
 "metadata": {
  "kernelspec": {
   "display_name": "Python 3",
   "language": "python",
   "name": "python3"
  },
  "language_info": {
   "codemirror_mode": {
    "name": "ipython",
    "version": 3
   },
   "file_extension": ".py",
   "mimetype": "text/x-python",
   "name": "python",
   "nbconvert_exporter": "python",
   "pygments_lexer": "ipython3",
   "version": "3.8.5"
  }
 },
 "nbformat": 4,
 "nbformat_minor": 4
}
