{
 "cells": [
  {
   "cell_type": "code",
   "execution_count": 1,
   "metadata": {
    "scrolled": true
   },
   "outputs": [
    {
     "name": "stdout",
     "output_type": "stream",
     "text": [
      "Requirement already satisfied: pygame in d:\\anaconda3\\envs\\env_1115\\lib\\site-packages (2.0.0)\n",
      "Note: you may need to restart the kernel to use updated packages.\n"
     ]
    }
   ],
   "source": [
    "pip install pygame"
   ]
  },
  {
   "cell_type": "code",
   "execution_count": 2,
   "metadata": {
    "scrolled": true
   },
   "outputs": [
    {
     "name": "stdout",
     "output_type": "stream",
     "text": [
      "pygame 2.0.0 (SDL 2.0.12, python 3.8.5)\n",
      "Hello from the pygame community. https://www.pygame.org/contribute.html\n"
     ]
    }
   ],
   "source": [
    "import sys\n",
    "\n",
    "import random\n",
    "import pygame\n",
    "from pygame.locals import QUIT,USEREVENT"
   ]
  },
  {
   "cell_type": "code",
   "execution_count": 3,
   "metadata": {},
   "outputs": [],
   "source": [
    "#定義顏色\n",
    "Yellow = (255,255,0)\n",
    "Black = (0,0,0)\n",
    "White = (255,255,255)\n",
    "Blue = (61,89,171)\n",
    "#定義視窗大小\n",
    "window_width = 1000\n",
    "window_height = 600\n",
    "#定義隕石圖片大小\n",
    "IMAGEWIDTH = 50\n",
    "IMAGEHEIGHT = 50\n",
    "#Rocket初始參數\n",
    "rt_x = 550\n",
    "rt_y = 250\n",
    "rt_dx = 1.5\n",
    "rt_dy = 1.5\n",
    "\n",
    "#分數\n",
    "score=0\n",
    "#分數座標\n",
    "score_x=853\n",
    "score_y=0\n",
    "\n",
    "#燃料包與隕石群組\n",
    "FuelPacks_list = pygame.sprite.Group()\n",
    "Meteorite_list = pygame.sprite.Group()\n",
    "\n",
    "clock = pygame.time.Clock()\n",
    "FPS = 60"
   ]
  },
  {
   "cell_type": "code",
   "execution_count": 4,
   "metadata": {
    "scrolled": true
   },
   "outputs": [],
   "source": [
    "#初始化\n",
    "pygame.init()\n",
    "#視窗大小為window_width，window_height\n",
    "windows_surface = pygame.display.set_mode((window_width,window_height)) \n",
    "#載入Rocket.png\n",
    "rocket_image = [pygame.image.load('RocketL.png').convert_alpha(),\n",
    "            pygame.image.load('RocketR.png').convert_alpha(),\n",
    "            pygame.image.load('RocketU.png').convert_alpha(),\n",
    "            pygame.image.load('RocketD.png').convert_alpha()]\n",
    "meteorite_image = [\"stoneU.png\", \n",
    "               \"stoneD.png\", \n",
    "               \"stoneL.png\", \n",
    "               \"stoneR.png\"]\n",
    "\n",
    "#畫面標題RocketMission\n",
    "pygame.display.set_caption('RocketMission') \n",
    "#背景大小為視窗大小\n",
    "background = pygame.Surface(windows_surface.get_size()) \n",
    "#增加繪製速度\n",
    "background.convert() \n",
    "#從(0,0)填入背景\n",
    "windows_surface.blit(background, (0,0))\n",
    "\n",
    "#匯入字體\n",
    "arial_s = pygame.font.SysFont(\"arial\", 20)\n",
    "arial = pygame.font.SysFont(\"arial\", 40)\n",
    "arial_L = pygame.font.SysFont(\"arial\", 100)"
   ]
  },
  {
   "cell_type": "code",
   "execution_count": 5,
   "metadata": {},
   "outputs": [],
   "source": [
    "#Rocket物件\n",
    "class Rocket(pygame.sprite.Sprite):\n",
    "    def __init__(self,x,dx,y,dy):\n",
    "        super().__init__()\n",
    "        self.image = rocket_image[0]\n",
    "        #回傳位置\n",
    "        self.rect = self.image.get_rect() \n",
    "        #定位\n",
    "        self.rect.center = (x,y)\n",
    "        self.x = rt_x\n",
    "        self.y = rt_y\n",
    "        self.dx = rt_dx\n",
    "        self.dy = rt_dy\n",
    "        \n",
    "    def draw(self,ws):\n",
    "        \n",
    "        ws.blit(self.image, (self.x,self.y)) #從(x,y)填入PacMan.jpg\n",
    "        \n",
    "    \n",
    "    #左移\n",
    "    def moveL(self):\n",
    "        if self.x > 0: \n",
    "            self.image = rocket_image[0]\n",
    "            self.x -= self.dx\n",
    "        \n",
    "    #右移\n",
    "    def moveR(self):\n",
    "        if self.x < window_width-75: \n",
    "            self.image = rocket_image[1]\n",
    "            self.x += self.dx\n",
    "        \n",
    "    #上移\n",
    "    def moveU(self):\n",
    "        if self.y > 0: \n",
    "            self.image = rocket_image[2]\n",
    "            self.y -= self.dy\n",
    "       \n",
    "    #下移\n",
    "    def moveD(self):\n",
    "        if self.y < window_height-75:\n",
    "            self.image = rocket_image[3]\n",
    "            self.y += self.dy"
   ]
  },
  {
   "cell_type": "code",
   "execution_count": 6,
   "metadata": {},
   "outputs": [],
   "source": [
    "#燃料包物件\n",
    "class FuelPack(pygame.sprite.Sprite):\n",
    "    def __init__(self,width,height):\n",
    "        super().__init__()\n",
    "        #載入fuelpack\n",
    "        self.image = pygame.image.load('fuelpack.png').convert_alpha()\n",
    "        #回傳位置   \n",
    "        self.rect = self.image.get_rect() "
   ]
  },
  {
   "cell_type": "code",
   "execution_count": 7,
   "metadata": {},
   "outputs": [],
   "source": [
    "#隕石物件\n",
    "class Meteorite(pygame.sprite.Sprite):\n",
    "    def __init__(self, width, height, x, y, widow_width, window_height, index):\n",
    "        super().__init__()\n",
    "        self.raw_image = pygame.image.load(meteorite_image[index]).convert_alpha()\n",
    "        self.image = pygame.transform.scale(self.raw_image, (width, height))\n",
    "        self.rect = self.image.get_rect()\n",
    "        self.rect.center = (x, y)\n",
    "        self.width = width\n",
    "        self.height = height\n",
    "        self.widow_width = widow_width\n",
    "        self.window_height = window_height\n",
    "        self.index = index\n",
    "    def move(self, x, y, index):\n",
    "        if(index == 0):\n",
    "            y -= 50\n",
    "        elif(index == 1):\n",
    "            y += 50\n",
    "        elif(index == 2):\n",
    "            x -= 50\n",
    "        else:\n",
    "            x += 50\n",
    "        if(x < 0):\n",
    "            x += window_width\n",
    "        elif(x > window_width):\n",
    "            x %= window_width\n",
    "        if(y < 0):\n",
    "            y += window_height\n",
    "        elif(y > window_height):\n",
    "            y %= window_height\n",
    "        return x, y\n",
    "    def turn(self, meteorite, index):\n",
    "        row1 = pygame.Rect(0, 200, 500, 15)\n",
    "        row2 = pygame.Rect(500, 400, 500, 15)\n",
    "        col1 = pygame.Rect(250, 0, 15, 1000)\n",
    "        col2 = pygame.Rect(500, 0, 15, 1000)\n",
    "        col3 = pygame.Rect(750, 0, 15, 1000)\n",
    "        if(pygame.Rect.colliderect(row1, meteorite.rect) or pygame.Rect.colliderect(row2, meteorite.rect) or \\\n",
    "           pygame.Rect.colliderect(col1, meteorite.rect) or (pygame.Rect.colliderect(col2, meteorite.rect) or \\\n",
    "           pygame.Rect.colliderect(col3, meteorite.rect))):\n",
    "            index = random.randint(0,3)\n",
    "        return index\n",
    "    def wall_collision_detect(self, meteorite, x, y, index):\n",
    "        wall_top = pygame.Rect(0, 10, 1000, 4)\n",
    "        wall_bottom = pygame.Rect(0, 580, 1000, 4)\n",
    "        wall_left = pygame.Rect(15, 0, 10, 600)\n",
    "        wall_right = pygame.Rect(980, 0, 10, 600)\n",
    "        if(pygame.Rect.colliderect(wall_top, meteorite.rect)):\n",
    "            #print(\"ohhhhh\")\n",
    "            index = 1\n",
    "            x, y = meteorite.move(x, y, index)\n",
    "        elif(pygame.Rect.colliderect(wall_bottom, meteorite.rect)):\n",
    "            index = 0\n",
    "            x, y = meteorite.move(x, y, index)\n",
    "        elif(pygame.Rect.colliderect(wall_left, meteorite.rect)):\n",
    "            index = 3\n",
    "            x, y = meteorite.move(x, y, index)\n",
    "        elif(pygame.Rect.colliderect(wall_right, meteorite.rect)):\n",
    "            index = 2\n",
    "            x, y = meteorite.move(x, y, index)\n",
    "        return x, y, index"
   ]
  },
  {
   "cell_type": "code",
   "execution_count": 8,
   "metadata": {},
   "outputs": [],
   "source": [
    "#創建地圖\n",
    "def createMap():\n",
    "\n",
    "    bg_image=pygame.image.load('Background.jpg').convert()\n",
    "    windows_surface.blit(bg_image,(0,0))\n",
    "    \n",
    "    #顯示分數\n",
    "    score_surface = arial.render(\"score:%d\" %score, True, White, Blue)\n",
    "    windows_surface.blit(score_surface, (score_x, score_y))\n",
    "    \n",
    "    #少於10個再創建新的fuelpack\n",
    "    if len(FuelPacks_list)<10:\n",
    "        createFuelPack()"
   ]
  },
  {
   "cell_type": "code",
   "execution_count": 9,
   "metadata": {},
   "outputs": [],
   "source": [
    "#畫燃料包\n",
    "def createFuelPack():\n",
    "    for i in range(35):\n",
    "        \n",
    "        #創建燃料包物件\n",
    "        fp=FuelPack(10,10)\n",
    "        \n",
    "        #為燃料包設定一個隨機座標\n",
    "        fp.rect.x=random.randrange(0,850)\n",
    "        fp.rect.y=random.randrange(42,window_height-75)\n",
    "\n",
    "        #加入群組\n",
    "        FuelPacks_list.add(fp)"
   ]
  },
  {
   "cell_type": "code",
   "execution_count": 10,
   "metadata": {},
   "outputs": [],
   "source": [
    "#創建隕石\n",
    "def createMeteorite():\n",
    "    x, y = 965,465   #1st隕石的起始位置\n",
    "    index = 0\n",
    "    meteorite = Meteorite(IMAGEWIDTH, IMAGEHEIGHT, x, y, window_width, window_height, index) #1st meteorite initialize\n",
    "    x2, y2 = 215, 215  #2nd隕石的起始位置\n",
    "    index2 = 3\n",
    "    meteorite2 = Meteorite(IMAGEWIDTH, IMAGEHEIGHT, x2, y2, window_width, window_height, index2)\n",
    "    \n",
    "    Meteorite_list.add(meteorite)\n",
    "    Meteorite_list.add(meteorite2)"
   ]
  },
  {
   "cell_type": "code",
   "execution_count": 11,
   "metadata": {},
   "outputs": [],
   "source": [
    "#移動隕石\n",
    "def reloadMeteorite():\n",
    "    \n",
    "    for meteorite in Meteorite_list:\n",
    "\n",
    "        x, y = meteorite.move(meteorite.rect.x,meteorite.rect.y,meteorite.index)            \n",
    "        index = meteorite.turn(meteorite, meteorite.index)\n",
    "        x, y,index = meteorite.wall_collision_detect(meteorite,x, y,index)\n",
    "        new_meteorite = Meteorite(IMAGEWIDTH, IMAGEHEIGHT, x, y, window_width, window_height, index)\n",
    "        Meteorite_list.remove(meteorite)\n",
    "        Meteorite_list.add(new_meteorite)"
   ]
  },
  {
   "cell_type": "code",
   "execution_count": 12,
   "metadata": {},
   "outputs": [],
   "source": [
    "def playBGM():\n",
    "    pygame.mixer.init()\n",
    "    pygame.mixer.music.set_volume(10)\n",
    "    pygame.mixer.music.load(\"through_the_space.mp3\")\n",
    "    pygame.mixer.music.play()"
   ]
  },
  {
   "cell_type": "code",
   "execution_count": 13,
   "metadata": {},
   "outputs": [],
   "source": [
    "def playgameover():\n",
    "    pygame.mixer.music.set_volume(10)\n",
    "    pygame.mixer.music.load(\"GameOver.mp3\")\n",
    "    pygame.mixer.music.play()"
   ]
  },
  {
   "cell_type": "code",
   "execution_count": 14,
   "metadata": {},
   "outputs": [],
   "source": [
    "#創建PRocket\n",
    "Rocket = Rocket(rt_x,rt_dx,rt_y,rt_dy)"
   ]
  },
  {
   "cell_type": "code",
   "execution_count": 15,
   "metadata": {},
   "outputs": [],
   "source": [
    "#創建fuelpack\n",
    "createFuelPack()"
   ]
  },
  {
   "cell_type": "code",
   "execution_count": 16,
   "metadata": {},
   "outputs": [],
   "source": [
    "#創建meteorite\n",
    "createMeteorite()"
   ]
  },
  {
   "cell_type": "code",
   "execution_count": 17,
   "metadata": {},
   "outputs": [],
   "source": [
    "reload_ghost_event = USEREVENT + 1\n",
    "pygame.time.set_timer(reload_ghost_event, 300)\n",
    "\n",
    "GameOver=False"
   ]
  },
  {
   "cell_type": "code",
   "execution_count": 18,
   "metadata": {
    "scrolled": true
   },
   "outputs": [],
   "source": [
    "#main loop\n",
    "\n",
    "playBGM()\n",
    "run = True\n",
    "while run:\n",
    "    clock.tick(FPS)\n",
    "    #關閉視窗\n",
    "    for event in pygame.event.get():\n",
    "        if event.type == QUIT:\n",
    "            run = False\n",
    "        elif event.type == reload_ghost_event:\n",
    "            reloadMeteorite()\n",
    "    #背景黑色\n",
    "    background.fill(Black) \n",
    "\n",
    "    createMap()\n",
    "\n",
    "    keys = pygame.key.get_pressed()\n",
    "\n",
    "    #鍵盤控制PacMan移動\n",
    "    if keys[pygame.K_w]:\n",
    "            Rocket.moveU()\n",
    "    if keys[pygame.K_a]:\n",
    "            Rocket.moveL()\n",
    "    if keys[pygame.K_s]:\n",
    "            Rocket.moveD()\n",
    "    if keys[pygame.K_d]:\n",
    "            Rocket.moveR()\n",
    "\n",
    "\n",
    "    #偵測碰撞FuelPack\n",
    "    for fp in FuelPacks_list:\n",
    "        if fp.rect.collidepoint(Rocket.x+25,Rocket.y+25):\n",
    "            score += 1\n",
    "            FuelPacks_list.remove(fp)\n",
    "\n",
    "    #偵測碰撞Meteorite\n",
    "    for meteorite in Meteorite_list:\n",
    "        if meteorite.rect.collidepoint(Rocket.x+25,Rocket.y+25):\n",
    "            Rocket.x=rt_x\n",
    "            Rocket.y=rt_y\n",
    "            pygame.mixer.music.unload()\n",
    "            playgameover()\n",
    "            GameOver=True\n",
    "\n",
    "    if not GameOver:\n",
    "        #畫出燃料包\n",
    "        FuelPacks_list.draw(windows_surface)\n",
    "\n",
    "        #畫出隕石\n",
    "        Meteorite_list.draw(windows_surface)\n",
    "\n",
    "        #繪製 Rocket\n",
    "        Rocket.draw(windows_surface)\n",
    "    else:\n",
    "        windows_surface.fill(Black)\n",
    "        gameover = arial_L.render(\"GameOver\", True, White, Black)\n",
    "        yourscore = arial.render(\"Your score:%d\"%score, True, White, Black)\n",
    "        playagain = arial.render(\"Press space to play again\", True, White, Black)\n",
    "        windows_surface.blit(gameover, (280, 200))\n",
    "        windows_surface.blit(yourscore, (395, 310))\n",
    "        windows_surface.blit(playagain, (300, 350))\n",
    "        if keys[pygame.K_SPACE]:\n",
    "            playBGM()\n",
    "            score=0\n",
    "            GameOver=False\n",
    "\n",
    "    pygame.display.update()    \n",
    "\n",
    "pygame.quit()        "
   ]
  }
 ],
 "metadata": {
  "kernelspec": {
   "display_name": "Python 3",
   "language": "python",
   "name": "python3"
  },
  "language_info": {
   "codemirror_mode": {
    "name": "ipython",
    "version": 3
   },
   "file_extension": ".py",
   "mimetype": "text/x-python",
   "name": "python",
   "nbconvert_exporter": "python",
   "pygments_lexer": "ipython3",
   "version": "3.8.5"
  }
 },
 "nbformat": 4,
 "nbformat_minor": 4
}
